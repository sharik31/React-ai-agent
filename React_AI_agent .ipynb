{
  "nbformat": 4,
  "nbformat_minor": 0,
  "metadata": {
    "colab": {
      "provenance": []
    },
    "kernelspec": {
      "name": "python3",
      "display_name": "Python 3"
    },
    "language_info": {
      "name": "python"
    }
  },
  "cells": [
    {
      "cell_type": "code",
      "execution_count": null,
      "metadata": {
        "id": "Pk5HJQ4uDZyd"
      },
      "outputs": [],
      "source": [
        "import os\n",
        "os.environ[\"HUGGINGFACEHUB_API_TOKEN\"]=\"\""
      ]
    },
    {
      "cell_type": "code",
      "source": [
        "!pip install -q langchain-openai langchain-community langchain-core requests duckduckgo-search\n",
        "!pip install -q langchain_huggingface"
      ],
      "metadata": {
        "id": "RprMQ_0zh1zA"
      },
      "execution_count": null,
      "outputs": []
    },
    {
      "cell_type": "code",
      "source": [
        "from langchain_openai import ChatOpenAI\n",
        "from langchain_huggingface import ChatHuggingFace,HuggingFaceEndpoint\n",
        "from langchain_core.prompts import ChatPromptTemplate\n",
        "from langchain_core.tools import tool\n",
        "import requests"
      ],
      "metadata": {
        "id": "GBd5Cf-6iTST"
      },
      "execution_count": null,
      "outputs": []
    },
    {
      "cell_type": "code",
      "source": [
        "from langchain_community.tools import DuckDuckGoSearchRun\n",
        "\n",
        "search_tool = DuckDuckGoSearchRun()"
      ],
      "metadata": {
        "colab": {
          "base_uri": "https://localhost:8080/"
        },
        "id": "FjuThrlgixVN",
        "outputId": "dea32ad9-84dc-48f8-caa3-54def124760a"
      },
      "execution_count": null,
      "outputs": [
        {
          "output_type": "stream",
          "name": "stderr",
          "text": [
            "/usr/local/lib/python3.11/dist-packages/langchain_community/utilities/duckduckgo_search.py:63: RuntimeWarning: This package (`duckduckgo_search`) has been renamed to `ddgs`! Use `pip install ddgs` instead.\n",
            "  with DDGS() as ddgs:\n"
          ]
        }
      ]
    },
    {
      "cell_type": "code",
      "source": [
        "@tool\n",
        "def get_weather_data(city:str)->str:\n",
        "  \"\"\" This tool fetches the current weather data for a given city\"\"\"\n",
        "  url=f'https://api.weatherstack.com/current?access_key=e164ab200573f2b7a02d5d120d8c25da&query={city}'\n",
        "  response=requests.get(url)\n",
        "  return response.json()"
      ],
      "metadata": {
        "id": "0uk6Ps-yD7OE"
      },
      "execution_count": null,
      "outputs": []
    },
    {
      "cell_type": "code",
      "source": [
        "llm=HuggingFaceEndpoint(\n",
        "     repo_id=\"deepseek-ai/DeepSeek-R1-0528\",\n",
        "    task='conversational',\n",
        "     temperature=0.7,\n",
        "    max_new_tokens=512\n",
        "\n",
        ")\n",
        "model=ChatHuggingFace(llm=llm)"
      ],
      "metadata": {
        "id": "36xXOZ8_jW8J"
      },
      "execution_count": null,
      "outputs": []
    },
    {
      "cell_type": "code",
      "source": [
        "model.invoke('Hello')"
      ],
      "metadata": {
        "colab": {
          "base_uri": "https://localhost:8080/"
        },
        "id": "OWh9pMX_jr7C",
        "outputId": "d010e5a8-b41b-4c73-d495-de63ce6882cc"
      },
      "execution_count": null,
      "outputs": [
        {
          "output_type": "execute_result",
          "data": {
            "text/plain": [
              "AIMessage(content=\"<think>\\nOkay, the user just said “Hello”. Pretty straightforward greeting. \\n\\nHmm, they might be testing if I'm active, starting a conversation casually, or maybe just being polite. No other context given so far. \\n\\nI should keep it warm but open-ended to invite further interaction. Since it's the first message, matching their simple tone feels appropriate - no need for elaborate replies yet. \\n\\nI wonder if they're new to chatting with AIs? The single word feels either hesitant or minimalist. Better assume positive intent. \\n\\n“Hey there!” keeps it friendly. Adding a smiling emoji softens the digital tone. “How can I help you today?” leaves the ball in their court without pressure. \\n\\nNoted they didn't use a name - probably don't know mine yet. Signed off with “Assistant” for clarity. Minimal exclamation points to avoid seeming overeager. \\n\\n…Should I have asked how they are? No, that might feel intrusive for an opener. Sticking to service-oriented framing feels safer.\\n</think>\\nHey there! 👋 How can I help you today? 😊\", additional_kwargs={}, response_metadata={'token_usage': {'completion_tokens': 228, 'prompt_tokens': 4, 'total_tokens': 232}, 'model_name': 'deepseek-ai/DeepSeek-R1-0528', 'system_fingerprint': None, 'finish_reason': 'stop', 'logprobs': None}, id='run--ade5d17b-204f-463a-8017-c7f72ec97e53-0', usage_metadata={'input_tokens': 4, 'output_tokens': 228, 'total_tokens': 232})"
            ]
          },
          "metadata": {},
          "execution_count": 42
        }
      ]
    },
    {
      "cell_type": "code",
      "source": [
        "from langchain.agents import create_react_agent, AgentExecutor\n",
        "from langchain import hub"
      ],
      "metadata": {
        "id": "ENiCxdWml19i"
      },
      "execution_count": null,
      "outputs": []
    },
    {
      "cell_type": "code",
      "source": [
        "prompt=hub.pull(\"hwchase17/react\")"
      ],
      "metadata": {
        "colab": {
          "base_uri": "https://localhost:8080/"
        },
        "id": "YKUvTypnt4AI",
        "outputId": "0730f33b-16c3-4c8c-f181-624d7504928b"
      },
      "execution_count": null,
      "outputs": [
        {
          "output_type": "stream",
          "name": "stderr",
          "text": [
            "/usr/local/lib/python3.11/dist-packages/langsmith/client.py:272: LangSmithMissingAPIKeyWarning: API key must be provided when using hosted LangSmith API\n",
            "  warnings.warn(\n"
          ]
        }
      ]
    },
    {
      "cell_type": "code",
      "source": [
        "agent=create_react_agent(\n",
        "    llm=model,\n",
        "    tools=[search_tool,get_weather_data],\n",
        "    prompt=prompt\n",
        "\n",
        ")"
      ],
      "metadata": {
        "id": "Kxi00YOquOOy"
      },
      "execution_count": null,
      "outputs": []
    },
    {
      "cell_type": "code",
      "source": [
        "agent_executor= AgentExecutor(\n",
        "    agent=agent,\n",
        "    tools=[search_tool,get_weather_data],\n",
        "    verbose=True\n",
        ")"
      ],
      "metadata": {
        "id": "DrECCAf4uyIy"
      },
      "execution_count": null,
      "outputs": []
    },
    {
      "cell_type": "code",
      "source": [
        "response=agent_executor.invoke({\"input\":\"find the capital of India, and find its weather condition\"})\n",
        "print(response)"
      ],
      "metadata": {
        "colab": {
          "base_uri": "https://localhost:8080/"
        },
        "id": "DcBKg6lpviGi",
        "outputId": "d482e7a7-01d6-45d3-9c97-e9155c241194"
      },
      "execution_count": null,
      "outputs": [
        {
          "output_type": "stream",
          "name": "stdout",
          "text": [
            "\n",
            "\n",
            "\u001b[1m> Entering new AgentExecutor chain...\u001b[0m\n",
            "\u001b[32;1m\u001b[1;3m<think>\n",
            "We are given a question: \"find the capital of India, and find its weather condition\"\n",
            " This requires two parts:\n",
            " 1. Find the capital of India.\n",
            " 2. Then, find the weather condition for that capital.\n",
            "\n",
            " Step 1: We need the capital of India. We can use duckduckgo_search for this.\n",
            " Step 2: Once we have the capital (which is New Delhi), we can use the get_weather_data tool to get its weather.\n",
            "\n",
            " Let's break it down:\n",
            "\n",
            " First, we need to use duckduckgo_search to find the capital of India.\n",
            "\n",
            " Note: Since the instructions say we can chain actions, we'll do:\n",
            "\n",
            " Thought: I need to find the capital of India. I can use duckduckgo_search for this.\n",
            " Action: duckduckgo_search\n",
            " Action Input: \"capital of India\"\n",
            "\n",
            " We expect to get a search result that tells us the capital is New Delhi.\n",
            "\n",
            " Then, we can use that city (New Delhi) to get the weather.\n",
            "\n",
            " However, the problem is that the duckduckgo_search might return multiple results or snippets. We need to extract the capital.\n",
            "\n",
            " Alternatively, we could rely on known fact: the capital of India is New Delhi. But the question asks for current weather, so we have to be up-to-date.\n",
            "\n",
            " But note: the capital of a country doesn't change frequently. However, let's be safe and search for it.\n",
            "\n",
            " After getting the capital, we call get_weather_data for \"New Delhi\".\n",
            "\n",
            " Let's do the first step.\n",
            "</think>\n",
            "Thought: To find the capital of India and its weather, I need two pieces of information. First, I should use duckduckgo_search to confirm the capital of India, as it requires current factual knowledge. Once I have the capital (likely New Delhi), I can use get_weather_data to fetch its current weather.  \n",
            "Action: duckduckgo_search  \n",
            "Action Input: \"capital of India\"  \n",
            "\u001b[0m"
          ]
        },
        {
          "output_type": "stream",
          "name": "stderr",
          "text": [
            "/usr/local/lib/python3.11/dist-packages/langchain_community/utilities/duckduckgo_search.py:63: RuntimeWarning: This package (`duckduckgo_search`) has been renamed to `ddgs`! Use `pip install ddgs` instead.\n",
            "  with DDGS() as ddgs:\n"
          ]
        },
        {
          "output_type": "stream",
          "name": "stdout",
          "text": [
            "\u001b[36;1m\u001b[1;3mNo good DuckDuckGo Search Result was found\u001b[0m\u001b[32;1m\u001b[1;3m<think>\n",
            "We encountered an issue with the duckduckgo_search tool not returning results for \"capital of India\".\n",
            " However, as a general knowledge fact, I know that the capital of India is New Delhi.\n",
            " Since the tool didn't return a result, I'll fall back to this knowledge and proceed to get the weather for New Delhi.\n",
            " Let's use the get_weather_data tool for New Delhi.\n",
            "</think>\n",
            "Thought: It seems the search tool failed, but I recall that New Delhi is the universally recognized capital of India. I'll proceed to get the weather for New Delhi using the weather tool.  \n",
            "Action: get_weather_data  \n",
            "Action Input: \"New Delhi\"  \n",
            "\u001b[0m\u001b[33;1m\u001b[1;3m{'request': {'type': 'City', 'query': 'New Delhi, India', 'language': 'en', 'unit': 'm'}, 'location': {'name': 'New Delhi', 'country': 'India', 'region': 'Delhi', 'lat': '28.600', 'lon': '77.200', 'timezone_id': 'Asia/Kolkata', 'localtime': '2025-08-10 18:43', 'localtime_epoch': 1754851380, 'utc_offset': '5.50'}, 'current': {'observation_time': '01:13 PM', 'temperature': 33, 'weather_code': 143, 'weather_icons': ['https://cdn.worldweatheronline.com/images/wsymbols01_png_64/wsymbol_0006_mist.png'], 'weather_descriptions': ['Haze'], 'astro': {'sunrise': '05:48 AM', 'sunset': '07:05 PM', 'moonrise': '07:56 PM', 'moonset': '06:31 AM', 'moon_phase': 'Waning Gibbous', 'moon_illumination': 99}, 'air_quality': {'co': '532.8', 'no2': '13.69', 'o3': '283', 'so2': '83.62', 'pm2_5': '130.055', 'pm10': '240.315', 'us-epa-index': '4', 'gb-defra-index': '4'}, 'wind_speed': 8, 'wind_degree': 34, 'wind_dir': 'NE', 'pressure': 1002, 'precip': 0, 'humidity': 67, 'cloudcover': 50, 'feelslike': 38, 'uv_index': 0, 'visibility': 5, 'is_day': 'yes'}}\u001b[0m\u001b[32;1m\u001b[1;3m<think>\n",
            "We have the weather data for New Delhi from the observation.\n",
            " The data includes:\n",
            "   - Location: New Delhi, India\n",
            "   - Local time: 2025-08-10 18:43 (which is 6:43 PM)\n",
            "   - Temperature: 33°C\n",
            "   - Weather description: 'Haze'\n",
            "   - Additional details: \n",
            "        Wind speed: 8 km/h (from the structure, it's in km/h as per typical response of the tool, though not explicitly stated here)\n",
            "        Humidity: 67%\n",
            "        Feels like: 38°C\n",
            "\n",
            " Now we can summarize the answer to the question:\n",
            "\n",
            " The capital of India is New Delhi.\n",
            " The current weather in New Delhi is:\n",
            "   - Temperature: 33°C\n",
            "   - Condition: Haze\n",
            "   - Feels like: 38°C\n",
            "   - Humidity: 67%\n",
            "   - Wind: 8 km/h from the NE (Northeast)\n",
            "\n",
            " However, note that the observation time in the data is 1:13 PM (observation_time) and the local time is 6:43 PM. The weather data is current as of the observation time.\n",
            "\n",
            " Let's write the final answer accordingly.\n",
            "</think>\n",
            "Thought: I now have the required information. New Delhi is the capital of India, and the current weather data shows hazy conditions with a temperature of 33°C.  \n",
            "Final Answer: The capital of India is New Delhi. Its current weather is 33°C with haze. The feels-like temperature is 38°C, humidity is 67%, and wind speed is 8 km/h from the northeast. Air quality is poor (PM2.5: 130.055).\u001b[0m\n",
            "\n",
            "\u001b[1m> Finished chain.\u001b[0m\n",
            "{'input': 'find the capital of India, and find its weather condition', 'output': 'The capital of India is New Delhi. Its current weather is 33°C with haze. The feels-like temperature is 38°C, humidity is 67%, and wind speed is 8 km/h from the northeast. Air quality is poor (PM2.5: 130.055).'}\n"
          ]
        }
      ]
    },
    {
      "cell_type": "code",
      "source": [],
      "metadata": {
        "id": "Nl4fADjGv-zd"
      },
      "execution_count": null,
      "outputs": []
    }
  ]
}
